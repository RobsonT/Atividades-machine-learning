{
 "cells": [
  {
   "cell_type": "markdown",
   "metadata": {},
   "source": [
    "# Ativida 1"
   ]
  },
  {
   "cell_type": "markdown",
   "metadata": {},
   "source": [
    "## Importação das bibliotecas"
   ]
  },
  {
   "cell_type": "code",
   "execution_count": 1,
   "metadata": {},
   "outputs": [],
   "source": [
    "from regression import (RLA, RLGD, MLR, MLRGD, MLRSGD, Polynomial_regression as PR,\n",
    "Regularized_multiple_linear_regression as RMLR)\n",
    "from metrics import Metrics\n",
    "import numpy as np\n",
    "from sklearn.model_selection import train_test_split\n",
    "import matplotlib.pyplot as plt"
   ]
  },
  {
   "cell_type": "markdown",
   "metadata": {},
   "source": [
    "## Leitura do Boston House Price Dataset"
   ]
  },
  {
   "cell_type": "code",
   "execution_count": 2,
   "metadata": {},
   "outputs": [],
   "source": [
    "data = np.loadtxt(\"./data/housing.data\", delimiter=\",\")\n",
    "X = data[:,-2]\n",
    "y = data[:, -1]"
   ]
  },
  {
   "cell_type": "code",
   "execution_count": 3,
   "metadata": {},
   "outputs": [],
   "source": [
    "X_train, X_test, y_train, y_test = train_test_split(X, y, shuffle=True, test_size=0.2)"
   ]
  },
  {
   "cell_type": "markdown",
   "metadata": {},
   "source": [
    "## Aplicação da regressão linear univariada e da regressão polinomial"
   ]
  },
  {
   "cell_type": "code",
   "execution_count": 4,
   "metadata": {},
   "outputs": [],
   "source": [
    "model1 = RLA()\n",
    "model2 = RLGD(learning_rate = 0.005, epochs=1000)\n",
    "model3 = PR(degree = 2)\n",
    "model4 = PR(degree = 3)\n",
    "metrics = Metrics()"
   ]
  },
  {
   "cell_type": "code",
   "execution_count": 5,
   "metadata": {},
   "outputs": [
    {
     "name": "stdout",
     "output_type": "stream",
     "text": [
      "Avaliação: \n",
      "Coeficientes: 34.82208862217598 e -0.969770939777397 \n",
      "------------------------Treino------------------------\n",
      "R2:  0.5543073583403695\n",
      "MSE:  38.243651744894805\n",
      "------------------------Teste------------------------\n",
      "R2:  0.4913740528107119\n",
      "MSE:  39.53077820534009\n"
     ]
    }
   ],
   "source": [
    "model1.fit(X_train, y_train)\n",
    "y_train_predict = model1.predict(X_train)\n",
    "y_test_predict = model1.predict(X_test)\n",
    "print(\"Avaliação: \")\n",
    "print(\"Coeficientes: {} e {} \".format(model1.b0, model1.b1))\n",
    "print(\"------------------------Treino------------------------\")\n",
    "print(\"R2: \", metrics.R2(y_true=y_train, y_predict=y_train_predict))\n",
    "print(\"MSE: \", metrics.MSE(y_train, y_train_predict))\n",
    "print(\"------------------------Teste------------------------\")\n",
    "print(\"R2: \", metrics.R2(y_test, y_test_predict))\n",
    "print(\"MSE: \", metrics.MSE(y_test, y_test_predict))"
   ]
  },
  {
   "cell_type": "code",
   "execution_count": 6,
   "metadata": {},
   "outputs": [
    {
     "name": "stdout",
     "output_type": "stream",
     "text": [
      "Avaliação: \n",
      "Coeficientes: 24.872722921684865 e -0.3656953846994688 \n",
      "------------------------Treino------------------------\n",
      "R2:  0.2693675555908457\n",
      "MSE:  62.69354740400646\n",
      "------------------------Teste------------------------\n",
      "R2:  0.2954942818179833\n",
      "MSE:  54.75469634167664\n"
     ]
    }
   ],
   "source": [
    "model2.fit(X_train, y_train)\n",
    "y_train_predict = model2.predict(X_train)\n",
    "y_test_predict = model2.predict(X_test)\n",
    "print(\"Avaliação: \")\n",
    "print(\"Coeficientes: {} e {} \".format(model2.b0, model2.b1))\n",
    "print(\"------------------------Treino------------------------\")\n",
    "print(\"R2: \", metrics.R2(y_true=y_train, y_predict=y_train_predict))\n",
    "print(\"MSE: \", metrics.MSE(y_train, y_train_predict))\n",
    "print(\"------------------------Teste------------------------\")\n",
    "print(\"R2: \", metrics.R2(y_test, y_test_predict))\n",
    "print(\"MSE: \", metrics.MSE(y_test, y_test_predict))"
   ]
  },
  {
   "cell_type": "code",
   "execution_count": 7,
   "metadata": {},
   "outputs": [
    {
     "name": "stdout",
     "output_type": "stream",
     "text": [
      "Avaliação: \n",
      "Coeficientes:  [42.87849628 -2.33434958  0.0434058 ]\n",
      "------------------------Treino------------------------\n",
      "R2:  0.6481438219044532\n",
      "MSE:  30.191804579201794\n",
      "------------------------Teste------------------------\n",
      "R2:  0.6024900669646412\n",
      "MSE:  30.89476084355631\n"
     ]
    }
   ],
   "source": [
    "model3.fit(X_train, y_train)\n",
    "y_train_predict = model3.predict(X_train)\n",
    "y_test_predict = model3.predict(X_test)\n",
    "print(\"Avaliação: \")\n",
    "print(\"Coeficientes: \", model3.b)\n",
    "print(\"------------------------Treino------------------------\")\n",
    "print(\"R2: \", metrics.R2(y_true=y_train, y_predict=y_train_predict))\n",
    "print(\"MSE: \", metrics.MSE(y_train, y_train_predict))\n",
    "print(\"------------------------Teste------------------------\")\n",
    "print(\"R2: \", metrics.R2(y_test, y_test_predict))\n",
    "print(\"MSE: \", metrics.MSE(y_test, y_test_predict))"
   ]
  },
  {
   "cell_type": "code",
   "execution_count": 8,
   "metadata": {
    "scrolled": true
   },
   "outputs": [
    {
     "name": "stdout",
     "output_type": "stream",
     "text": [
      "Avaliação: \n",
      "Coeficientes:  [ 4.76261342e+01 -3.49491563e+00  1.04884828e-01 -3.04121835e-05]\n",
      "------------------------Treino------------------------\n",
      "R2:  0.6660244929619893\n",
      "MSE:  28.657513695818405\n",
      "------------------------Teste------------------------\n",
      "R2:  0.5870943041576474\n",
      "MSE:  32.091330716148356\n"
     ]
    }
   ],
   "source": [
    "model4.fit(X_train, y_train)\n",
    "y_train_predict = model4.predict(X_train)\n",
    "y_test_predict = model4.predict(X_test)\n",
    "print(\"Avaliação: \")\n",
    "print(\"Coeficientes: \",model4.b)\n",
    "print(\"------------------------Treino------------------------\")\n",
    "print(\"R2: \", metrics.R2(y_true=y_train, y_predict=y_train_predict))\n",
    "print(\"MSE: \", metrics.MSE(y_train, y_train_predict))\n",
    "print(\"------------------------Teste------------------------\")\n",
    "print(\"R2: \", metrics.R2(y_test, y_test_predict))\n",
    "print(\"MSE: \", metrics.MSE(y_test, y_test_predict))"
   ]
  },
  {
   "cell_type": "markdown",
   "metadata": {},
   "source": [
    "## Leitura de trab1_data.csv"
   ]
  },
  {
   "cell_type": "code",
   "execution_count": 9,
   "metadata": {},
   "outputs": [],
   "source": [
    "data = np.loadtxt(\"./data/trab1_data.csv\", skiprows=1, delimiter=\",\")\n",
    "X = data[:,:-1]\n",
    "y = data[:, -1]"
   ]
  },
  {
   "cell_type": "code",
   "execution_count": 10,
   "metadata": {},
   "outputs": [],
   "source": [
    "X_train, X_test, y_train, y_test = train_test_split(X, y, shuffle=True, test_size=0.2)"
   ]
  },
  {
   "cell_type": "markdown",
   "metadata": {},
   "source": [
    "## Aplicação da regressão linear multivariada"
   ]
  },
  {
   "cell_type": "code",
   "execution_count": 11,
   "metadata": {},
   "outputs": [],
   "source": [
    "model5 = MLR()\n",
    "model6 = MLRGD(learning_rate=0.0001, epochs=1000)\n",
    "model7 = MLRSGD(learning_rate=0.00001, epochs=100)\n",
    "model8 = RMLR(learning_rate=0.0001, epochs=100, _lambda = 1)\n",
    "metrics = Metrics()"
   ]
  },
  {
   "cell_type": "code",
   "execution_count": 12,
   "metadata": {},
   "outputs": [
    {
     "name": "stdout",
     "output_type": "stream",
     "text": [
      "Avaliação: \n",
      "Coeficientes:  [ 2.79914225e+00 -1.10415827e-03  4.64142907e-02  1.89590768e-01\n",
      "  5.59918194e-04]\n",
      "------------------------Treino------------------------\n",
      "R2:  0.8950468641443579\n",
      "MSE:  2.854153136693779\n",
      "------------------------Teste------------------------\n",
      "R2:  0.902157225907398\n",
      "MSE:  2.5671247130437846\n"
     ]
    }
   ],
   "source": [
    "model5.fit(X_train, y_train)\n",
    "y_train_predict = model5.predict(X_train)\n",
    "y_test_predict = model5.predict(X_test)\n",
    "print(\"Avaliação: \")\n",
    "print(\"Coeficientes: \",model5.b)\n",
    "print(\"------------------------Treino------------------------\")\n",
    "print(\"R2: \", metrics.R2(y_true=y_train, y_predict=y_train_predict))\n",
    "print(\"MSE: \", metrics.MSE(y_train, y_train_predict))\n",
    "print(\"------------------------Teste------------------------\")\n",
    "print(\"R2: \", metrics.R2(y_test, y_test_predict))\n",
    "print(\"MSE: \", metrics.MSE(y_test, y_test_predict))"
   ]
  },
  {
   "cell_type": "code",
   "execution_count": 13,
   "metadata": {},
   "outputs": [
    {
     "name": "stdout",
     "output_type": "stream",
     "text": [
      "Avaliação: \n",
      "Coeficientes:  [ 1.73458519e+14  5.16498660e+16 -3.43866471e+15  1.38177312e+15\n",
      "  1.62180093e+15]\n",
      "------------------------Treino------------------------\n",
      "R2:  -1.2082891805500637e+36\n",
      "MSE:  3.285887864697589e+37\n",
      "------------------------Teste------------------------\n",
      "R2:  -1.017582499142026e+36\n",
      "MSE:  2.66985600657235e+37\n"
     ]
    }
   ],
   "source": [
    "model6.fit(X_train, y_train)\n",
    "y_train_predict = model6.predict(X_train)\n",
    "y_test_predict = model6.predict(X_test)\n",
    "print(\"Avaliação: \")\n",
    "print(\"Coeficientes: \",model6.b)\n",
    "print(\"------------------------Treino------------------------\")\n",
    "print(\"R2: \", metrics.R2(y_true=y_train, y_predict=y_train_predict))\n",
    "print(\"MSE: \", metrics.MSE(y_train, y_train_predict))\n",
    "print(\"------------------------Teste------------------------\")\n",
    "print(\"R2: \", metrics.R2(y_test, y_test_predict))\n",
    "print(\"MSE: \", metrics.MSE(y_test, y_test_predict))"
   ]
  },
  {
   "cell_type": "code",
   "execution_count": 14,
   "metadata": {},
   "outputs": [
    {
     "name": "stdout",
     "output_type": "stream",
     "text": [
      "Avaliação: \n",
      "Coeficientes:  [1.35094688e+146 1.74307464e+148 2.07549408e+148 3.04914408e+147\n",
      " 3.64638118e+147]\n",
      "------------------------Treino------------------------\n",
      "R2:  -1.0614984479473915e+300\n",
      "MSE:  2.886697095903641e+301\n",
      "------------------------Teste------------------------\n",
      "R2:  -1.1442058549487691e+300\n",
      "MSE:  3.0020807916468e+301\n"
     ]
    }
   ],
   "source": [
    "model7.fit(X_train, y_train)\n",
    "y_train_predict = model7.predict(X_train)\n",
    "y_test_predict = model7.predict(X_test)\n",
    "print(\"Avaliação: \")\n",
    "print(\"Coeficientes: \",model7.b)\n",
    "print(\"------------------------Treino------------------------\")\n",
    "print(\"R2: \", metrics.R2(y_true=y_train, y_predict=y_train_predict))\n",
    "print(\"MSE: \", metrics.MSE(y_train, y_train_predict))\n",
    "print(\"------------------------Teste------------------------\")\n",
    "print(\"R2: \", metrics.R2(y_test, y_test_predict))\n",
    "print(\"MSE: \", metrics.MSE(y_test, y_test_predict))"
   ]
  },
  {
   "cell_type": "code",
   "execution_count": 15,
   "metadata": {},
   "outputs": [
    {
     "name": "stdout",
     "output_type": "stream",
     "text": [
      "Avaliação: \n",
      "Coeficientes:  [-2.87761665e+44 -4.59975615e+44 -5.99294210e+43 -7.35209139e+43]\n",
      "------------------------Treino------------------------\n",
      "R2:  -4.3245463403937013e+92\n",
      "MSE:  1.1760408492404986e+94\n",
      "------------------------Teste------------------------\n",
      "R2:  -4.738088420129067e+92\n",
      "MSE:  1.2431438078797873e+94\n"
     ]
    }
   ],
   "source": [
    "model8.fit(X_train, y_train)\n",
    "y_train_predict = model8.predict(X_train)\n",
    "y_test_predict = model8.predict(X_test)\n",
    "print(\"Avaliação: \")\n",
    "print(\"Coeficientes: \",model8.b)\n",
    "print(\"------------------------Treino------------------------\")\n",
    "print(\"R2: \", metrics.R2(y_true=y_train, y_predict=y_train_predict))\n",
    "print(\"MSE: \", metrics.MSE(y_train, y_train_predict))\n",
    "print(\"------------------------Teste------------------------\")\n",
    "print(\"R2: \", metrics.R2(y_test, y_test_predict))\n",
    "print(\"MSE: \", metrics.MSE(y_test, y_test_predict))"
   ]
  },
  {
   "cell_type": "code",
   "execution_count": 25,
   "metadata": {},
   "outputs": [
    {
     "data": {
      "text/plain": [
       "[<matplotlib.lines.Line2D at 0x1f0d3cef048>]"
      ]
     },
     "execution_count": 25,
     "metadata": {},
     "output_type": "execute_result"
    },
    {
     "data": {
      "image/png": "[encoded data removed]",
      "text/plain": [
       "<Figure size 432x288 with 1 Axes>"
      ]
     },
     "metadata": {
      "needs_background": "light"
     },
     "output_type": "display_data"
    }
   ],
   "source": [
    "epochs = 50\n",
    "mse = np.array([])\n",
    "\n",
    "for epoch in range(1, epochs):\n",
    "    model = MLRGD(learning_rate=0.0001, epochs=epoch)\n",
    "    model.fit(X_train, y_train)\n",
    "    y_pred = model.predict(X_test)\n",
    "    mse = np.append(mse, metrics.MSE(y_test, y_pred))\n",
    "    \n",
    "plt.scatter(range(1,epochs), mse, color='black')\n",
    "plt.plot(range(1,epochs), mse, color='blue')"
   ]
  },
  {
   "cell_type": "code",
   "execution_count": 28,
   "metadata": {},
   "outputs": [
    {
     "data": {
      "text/plain": [
       "[<matplotlib.lines.Line2D at 0x1f0d3e2ad48>]"
      ]
     },
     "execution_count": 28,
     "metadata": {},
     "output_type": "execute_result"
    },
    {
     "data": {
      "image/png": "[encoded data removed]",
      "text/plain": [
       "<Figure size 432x288 with 1 Axes>"
      ]
     },
     "metadata": {
      "needs_background": "light"
     },
     "output_type": "display_data"
    }
   ],
   "source": [
    "mse = np.array([])\n",
    "\n",
    "for epoch in range(1, epochs):\n",
    "    model = MLRSGD(learning_rate=0.0001, epochs=epochs)\n",
    "    model.fit(X_train, y_train)\n",
    "    y_pred = model.predict(X_test)\n",
    "    mse = np.append(mse, metrics.MSE(y_test, y_pred))\n",
    "    \n",
    "plt.scatter(range(1,epochs), mse, color='black')\n",
    "plt.plot(range(1,epochs), mse, color='blue')"
   ]
  },
  {
   "cell_type": "code",
   "execution_count": 35,
   "metadata": {},
   "outputs": [
    {
     "data": {
      "text/plain": [
       "[<matplotlib.lines.Line2D at 0x1f0d40d2788>]"
      ]
     },
     "execution_count": 35,
     "metadata": {},
     "output_type": "execute_result"
    },
    {
     "data": {
      "image/png": "[encoded data removed]",
      "text/plain": [
       "<Figure size 432x288 with 1 Axes>"
      ]
     },
     "metadata": {
      "needs_background": "light"
     },
     "output_type": "display_data"
    }
   ],
   "source": [
    "mse = np.array([])\n",
    "_lambda = 6\n",
    "\n",
    "for l in range(1, _lambda):\n",
    "    model = RMLR(learning_rate=0.0001, epochs=200, _lambda = l)\n",
    "    model.fit(X_train, y_train)\n",
    "    y_pred = model.predict(X_test)\n",
    "    mse = np.append(mse, metrics.MSE(y_test, y_pred))\n",
    "    \n",
    "plt.scatter(range(1,_lambda), mse, color='black')\n",
    "plt.plot(range(1,_lambda), mse, color='blue')"
   ]
  }
 ],
 "metadata": {
  "kernelspec": {
   "display_name": "Python 3",
   "language": "python",
   "name": "python3"
  },
  "language_info": {
   "codemirror_mode": {
    "name": "ipython",
    "version": 3
   },
   "file_extension": ".py",
   "mimetype": "text/x-python",
   "name": "python",
   "nbconvert_exporter": "python",
   "pygments_lexer": "ipython3",
   "version": "3.7.6"
  }
 },
 "nbformat": 4,
 "nbformat_minor": 4
}
