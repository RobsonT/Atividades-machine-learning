{
 "cells": [
  {
   "cell_type": "markdown",
   "metadata": {},
   "source": [
    "# Ativida 1"
   ]
  },
  {
   "cell_type": "markdown",
   "metadata": {},
   "source": [
    "## Importação das bibliotecas"
   ]
  },
  {
   "cell_type": "code",
   "execution_count": 1,
   "metadata": {},
   "outputs": [],
   "source": [
    "from regression import (RLA, RLGD, MLR, MLRGD, MLRSGD, Polynomial_regression as PR,\n",
    "Regularized_multiple_linear_regression as RMLR)\n",
    "from metrics import Metrics\n",
    "import numpy as np\n",
    "from sklearn.model_selection import train_test_split"
   ]
  },
  {
   "cell_type": "markdown",
   "metadata": {},
   "source": [
    "## Leitura do Boston House Price Dataset"
   ]
  },
  {
   "cell_type": "code",
   "execution_count": 2,
   "metadata": {},
   "outputs": [],
   "source": [
    "data = np.loadtxt(\"./data/housing.data\", delimiter=\",\")\n",
    "X = data[:,-2]\n",
    "y = data[:, -1]"
   ]
  },
  {
   "cell_type": "code",
   "execution_count": 3,
   "metadata": {},
   "outputs": [],
   "source": [
    "X_train, X_test, y_train, y_test = train_test_split(X, y, shuffle=True, test_size=0.2)"
   ]
  },
  {
   "cell_type": "markdown",
   "metadata": {},
   "source": [
    "## Aplicação da regressão linear univariada e da regressão polinomial"
   ]
  },
  {
   "cell_type": "code",
   "execution_count": 4,
   "metadata": {},
   "outputs": [],
   "source": [
    "model1 = RLA()\n",
    "model2 = RLGD(learning_rate = 0.005, epochs=1000)\n",
    "model3 = PR(degree = 2)\n",
    "model4 = PR(degree = 3)\n",
    "metrics = Metrics()"
   ]
  },
  {
   "cell_type": "code",
   "execution_count": 5,
   "metadata": {},
   "outputs": [
    {
     "name": "stdout",
     "output_type": "stream",
     "text": [
      "Avaliação: \n",
      "Coeficientes: 34.4936880993487 e -0.9409532025665054 \n",
      "------------------------Treino------------------------\n",
      "R2:  0.5476071727159275\n",
      "MSE:  38.32767455551521\n",
      "------------------------Teste------------------------\n",
      "R2:  0.5294813500099176\n",
      "MSE:  39.133912123736124\n"
     ]
    }
   ],
   "source": [
    "model1.fit(X_train, y_train)\n",
    "y_train_predict = model1.predict(X_train)\n",
    "y_test_predict = model1.predict(X_test)\n",
    "print(\"Avaliação: \")\n",
    "print(\"Coeficientes: {} e {} \".format(model1.b0, model1.b1))\n",
    "print(\"------------------------Treino------------------------\")\n",
    "print(\"R2: \", metrics.R2(y_true=y_train, y_predict=y_train_predict))\n",
    "print(\"MSE: \", metrics.MSE(y_train, y_train_predict))\n",
    "print(\"------------------------Teste------------------------\")\n",
    "print(\"R2: \", metrics.R2(y_test, y_test_predict))\n",
    "print(\"MSE: \", metrics.MSE(y_test, y_test_predict))"
   ]
  },
  {
   "cell_type": "code",
   "execution_count": 6,
   "metadata": {},
   "outputs": [
    {
     "name": "stdout",
     "output_type": "stream",
     "text": [
      "Avaliação: \n",
      "Coeficientes: 24.605900443992798 e -0.35163640088365344 \n",
      "------------------------Treino------------------------\n",
      "R2:  0.2632205021164844\n",
      "MSE:  62.42151314287541\n",
      "------------------------Teste------------------------\n",
      "R2:  0.2534994769755835\n",
      "MSE:  62.08783832261766\n"
     ]
    }
   ],
   "source": [
    "model2.fit(X_train, y_train)\n",
    "y_train_predict = model2.predict(X_train)\n",
    "y_test_predict = model2.predict(X_test)\n",
    "print(\"Avaliação: \")\n",
    "print(\"Coeficientes: {} e {} \".format(model2.b0, model2.b1))\n",
    "print(\"------------------------Treino------------------------\")\n",
    "print(\"R2: \", metrics.R2(y_true=y_train, y_predict=y_train_predict))\n",
    "print(\"MSE: \", metrics.MSE(y_train, y_train_predict))\n",
    "print(\"------------------------Teste------------------------\")\n",
    "print(\"R2: \", metrics.R2(y_test, y_test_predict))\n",
    "print(\"MSE: \", metrics.MSE(y_test, y_test_predict))"
   ]
  },
  {
   "cell_type": "code",
   "execution_count": 7,
   "metadata": {},
   "outputs": [
    {
     "name": "stdout",
     "output_type": "stream",
     "text": [
      "Avaliação: \n",
      "Coeficientes:  [ 4.27145195e+01 -2.30749877e+00  4.26900252e-02]\n",
      "------------------------Treino------------------------\n",
      "R2:  0.6406741063089116\n",
      "MSE:  30.442847636294896\n",
      "------------------------Teste------------------------\n",
      "R2:  0.6404736097150363\n",
      "MSE:  29.902479240456\n"
     ]
    }
   ],
   "source": [
    "model3.fit(X_train, y_train)\n",
    "y_train_predict = model3.predict(X_train)\n",
    "y_test_predict = model3.predict(X_test)\n",
    "print(\"Avaliação: \")\n",
    "print(\"Coeficientes: \", model3.b)\n",
    "print(\"------------------------Treino------------------------\")\n",
    "print(\"R2: \", metrics.R2(y_true=y_train, y_predict=y_train_predict))\n",
    "print(\"MSE: \", metrics.MSE(y_train, y_train_predict))\n",
    "print(\"------------------------Teste------------------------\")\n",
    "print(\"R2: \", metrics.R2(y_test, y_test_predict))\n",
    "print(\"MSE: \", metrics.MSE(y_test, y_test_predict))"
   ]
  },
  {
   "cell_type": "code",
   "execution_count": 8,
   "metadata": {
    "scrolled": true
   },
   "outputs": [
    {
     "name": "stdout",
     "output_type": "stream",
     "text": [
      "Avaliação: \n",
      "Coeficientes:  [ 4.59610946e+01 -3.08258964e+00  8.31048652e-02 -1.96520721e-05]\n",
      "------------------------Treino------------------------\n",
      "R2:  0.6491905960218929\n",
      "MSE:  29.721312664058104\n",
      "------------------------Teste------------------------\n",
      "R2:  0.6692115659263986\n",
      "MSE:  27.51228991849196\n"
     ]
    }
   ],
   "source": [
    "model4.fit(X_train, y_train)\n",
    "y_train_predict = model4.predict(X_train)\n",
    "y_test_predict = model4.predict(X_test)\n",
    "print(\"Avaliação: \")\n",
    "print(\"Coeficientes: \",model4.b)\n",
    "print(\"------------------------Treino------------------------\")\n",
    "print(\"R2: \", metrics.R2(y_true=y_train, y_predict=y_train_predict))\n",
    "print(\"MSE: \", metrics.MSE(y_train, y_train_predict))\n",
    "print(\"------------------------Teste------------------------\")\n",
    "print(\"R2: \", metrics.R2(y_test, y_test_predict))\n",
    "print(\"MSE: \", metrics.MSE(y_test, y_test_predict))"
   ]
  },
  {
   "cell_type": "markdown",
   "metadata": {},
   "source": [
    "## Leitura de trab1_data.csv"
   ]
  },
  {
   "cell_type": "code",
   "execution_count": 9,
   "metadata": {},
   "outputs": [],
   "source": [
    "data = np.loadtxt(\"./data/trab1_data.csv\", skiprows=1, delimiter=\",\")\n",
    "X = data[:,:-1]\n",
    "y = data[:, -1]"
   ]
  },
  {
   "cell_type": "code",
   "execution_count": 10,
   "metadata": {},
   "outputs": [],
   "source": [
    "X_train, X_test, y_train, y_test = train_test_split(X, y, shuffle=True, test_size=0.2)"
   ]
  },
  {
   "cell_type": "markdown",
   "metadata": {},
   "source": [
    "## Aplicação da regressão linear multivariada"
   ]
  },
  {
   "cell_type": "code",
   "execution_count": 16,
   "metadata": {},
   "outputs": [],
   "source": [
    "model5 = MLR()\n",
    "model6 = MLRGD(learning_rate=0.0001, epochs=1000)\n",
    "model7 = MLRSGD(learning_rate=0.00001, epochs=100)\n",
    "model8 = RMLR(learning_rate=0.0001, epochs=100, _lambda = 1)\n",
    "metrics = Metrics()"
   ]
  },
  {
   "cell_type": "code",
   "execution_count": 12,
   "metadata": {},
   "outputs": [
    {
     "name": "stdout",
     "output_type": "stream",
     "text": [
      "Avaliação: \n",
      "Coeficientes:  [ 3.02027367e+00 -6.38976325e-04  4.57338511e-02  1.84736855e-01\n",
      "  1.69665976e-03]\n",
      "------------------------Treino------------------------\n",
      "R2:  0.8930783278652725\n",
      "MSE:  2.9243638667626675\n",
      "------------------------Teste------------------------\n",
      "R2:  0.913634840664348\n",
      "MSE:  2.2410457972389217\n"
     ]
    }
   ],
   "source": [
    "model5.fit(X_train, y_train)\n",
    "y_train_predict = model5.predict(X_train)\n",
    "y_test_predict = model5.predict(X_test)\n",
    "print(\"Avaliação: \")\n",
    "print(\"Coeficientes: \",model5.b)\n",
    "print(\"------------------------Treino------------------------\")\n",
    "print(\"R2: \", metrics.R2(y_true=y_train, y_predict=y_train_predict))\n",
    "print(\"MSE: \", metrics.MSE(y_train, y_train_predict))\n",
    "print(\"------------------------Teste------------------------\")\n",
    "print(\"R2: \", metrics.R2(y_test, y_test_predict))\n",
    "print(\"MSE: \", metrics.MSE(y_test, y_test_predict))"
   ]
  },
  {
   "cell_type": "code",
   "execution_count": 13,
   "metadata": {},
   "outputs": [
    {
     "name": "stdout",
     "output_type": "stream",
     "text": [
      "Avaliação: \n",
      "Coeficientes:  [ 2.07748075e+17  6.10691321e+19 -5.48461801e+18  2.21112489e+18\n",
      "  2.91170076e+18]\n",
      "------------------------Treino------------------------\n",
      "R2:  -1.5215980444135978e+42\n",
      "MSE:  4.161650535368521e+43\n",
      "------------------------Teste------------------------\n",
      "R2:  -1.762140645450731e+42\n",
      "MSE:  4.572489552509926e+43\n"
     ]
    }
   ],
   "source": [
    "model6.fit(X_train, y_train)\n",
    "y_train_predict = model6.predict(X_train)\n",
    "y_test_predict = model6.predict(X_test)\n",
    "print(\"Avaliação: \")\n",
    "print(\"Coeficientes: \",model6.b)\n",
    "print(\"------------------------Treino------------------------\")\n",
    "print(\"R2: \", metrics.R2(y_true=y_train, y_predict=y_train_predict))\n",
    "print(\"MSE: \", metrics.MSE(y_train, y_train_predict))\n",
    "print(\"------------------------Teste------------------------\")\n",
    "print(\"R2: \", metrics.R2(y_test, y_test_predict))\n",
    "print(\"MSE: \", metrics.MSE(y_test, y_test_predict))"
   ]
  },
  {
   "cell_type": "code",
   "execution_count": 14,
   "metadata": {},
   "outputs": [
    {
     "name": "stdout",
     "output_type": "stream",
     "text": [
      "Avaliação: \n",
      "Coeficientes:  [1.24489167e+146 1.56252637e+148 1.94088502e+148 2.94271161e+147\n",
      " 3.36337624e+147]\n",
      "------------------------Treino------------------------\n",
      "R2:  -8.920823570162519e+299\n",
      "MSE:  2.439892080763192e+301\n",
      "------------------------Teste------------------------\n",
      "R2:  -1.0082090619888806e+300\n",
      "MSE:  2.616150654371183e+301\n"
     ]
    }
   ],
   "source": [
    "model7.fit(X_train, y_train)\n",
    "y_train_predict = model7.predict(X_train)\n",
    "y_test_predict = model7.predict(X_test)\n",
    "print(\"Avaliação: \")\n",
    "print(\"Coeficientes: \",model7.b)\n",
    "print(\"------------------------Treino------------------------\")\n",
    "print(\"R2: \", metrics.R2(y_true=y_train, y_predict=y_train_predict))\n",
    "print(\"MSE: \", metrics.MSE(y_train, y_train_predict))\n",
    "print(\"------------------------Teste------------------------\")\n",
    "print(\"R2: \", metrics.R2(y_test, y_test_predict))\n",
    "print(\"MSE: \", metrics.MSE(y_test, y_test_predict))"
   ]
  },
  {
   "cell_type": "code",
   "execution_count": 17,
   "metadata": {},
   "outputs": [
    {
     "name": "stdout",
     "output_type": "stream",
     "text": [
      "Avaliação: \n",
      "Coeficientes:  [-2.11565818e+44 -3.50780617e+44 -4.68612927e+43 -5.45313443e+43]\n",
      "------------------------Treino------------------------\n",
      "R2:  -2.4461714658302402e+92\n",
      "MSE:  6.6904073830476625e+93\n",
      "------------------------Teste------------------------\n",
      "R2:  -2.7557243715320615e+92\n",
      "MSE:  7.150689663142238e+93\n"
     ]
    }
   ],
   "source": [
    "model8.fit(X_train, y_train)\n",
    "y_train_predict = model8.predict(X_train)\n",
    "y_test_predict = model8.predict(X_test)\n",
    "print(\"Avaliação: \")\n",
    "print(\"Coeficientes: \",model8.b)\n",
    "print(\"------------------------Treino------------------------\")\n",
    "print(\"R2: \", metrics.R2(y_true=y_train, y_predict=y_train_predict))\n",
    "print(\"MSE: \", metrics.MSE(y_train, y_train_predict))\n",
    "print(\"------------------------Teste------------------------\")\n",
    "print(\"R2: \", metrics.R2(y_test, y_test_predict))\n",
    "print(\"MSE: \", metrics.MSE(y_test, y_test_predict))"
   ]
  },
  {
   "cell_type": "code",
   "execution_count": null,
   "metadata": {},
   "outputs": [],
   "source": []
  }
 ],
 "metadata": {
  "kernelspec": {
   "display_name": "Python 3",
   "language": "python",
   "name": "python3"
  },
  "language_info": {
   "codemirror_mode": {
    "name": "ipython",
    "version": 3
   },
   "file_extension": ".py",
   "mimetype": "text/x-python",
   "name": "python",
   "nbconvert_exporter": "python",
   "pygments_lexer": "ipython3",
   "version": "3.7.6"
  }
 },
 "nbformat": 4,
 "nbformat_minor": 4
}
