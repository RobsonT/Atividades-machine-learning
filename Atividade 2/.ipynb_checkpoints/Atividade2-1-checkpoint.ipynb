{
 "cells": [
  {
   "cell_type": "markdown",
   "metadata": {
    "colab_type": "text",
    "id": "f9EPZYAA6K8G"
   },
   "source": [
    "# **ATIVIDADE 2**\n",
    "\n",
    "\n",
    "---\n",
    "\n",
    "\n",
    "\n",
    "---\n",
    "\n"
   ]
  },
  {
   "cell_type": "markdown",
   "metadata": {
    "colab_type": "text",
    "id": "KJvjkheM8gDN"
   },
   "source": [
    "#**Bibliotecas**\n",
    "\n",
    "---\n",
    "\n"
   ]
  },
  {
   "cell_type": "code",
   "execution_count": 962,
   "metadata": {
    "colab": {},
    "colab_type": "code",
    "id": "Cy3RtTyU8lQ6"
   },
   "outputs": [],
   "source": [
    "import numpy as np\n",
    "import matplotlib.pyplot as plt\n",
    "from sklearn.linear_model import LogisticRegression\n",
    "from sklearn.metrics import plot_confusion_matrix\n",
    "from sklearn.discriminant_analysis import LinearDiscriminantAnalysis\n",
    "from sklearn.metrics import plot_confusion_matrix\n",
    "from sklearn.model_selection import train_test_split\n",
    "from sklearn.metrics import confusion_matrix\n",
    "import pandas as pd\n",
    "import seaborn as sns\n",
    "import pylab as pl"
   ]
  },
  {
   "cell_type": "markdown",
   "metadata": {
    "colab_type": "text",
    "id": "OzeZZXK07uI9"
   },
   "source": [
    "#**Regressão Logística - Gradiente Descendente**\n",
    "\n",
    "---\n",
    "\n",
    "\n",
    "\n",
    "\n"
   ]
  },
  {
   "cell_type": "code",
   "execution_count": 963,
   "metadata": {
    "colab": {},
    "colab_type": "code",
    "id": "5if8fssq8aH8"
   },
   "outputs": [],
   "source": [
    "class RLGD():\n",
    "  def __init__(self, alpha=0.0001, epoca=1500):\n",
    "    \n",
    "    self._estimator_type = \"classifier\"    \n",
    "    self.alpha= alpha\n",
    "    self.epoca= epoca\n",
    "    self.beta= np.array([])\n",
    "        \n",
    "  def calculo(self, x, y):\n",
    "    \n",
    "    y_predicted = self.predict(x[:,1:])\n",
    "    erro = y - y_predicted\n",
    "    n = x.shape[1]\n",
    "    \n",
    "    for i in range(n):\n",
    "      self.beta[i] += (self.alpha * np.mean(erro * x[:, i])/n)\n",
    "            \n",
    "  def fit(self, x, y):\n",
    "    \n",
    "    ones = np.ones((x.shape[0], 1))\n",
    "    x = np.c_[ones, x]\n",
    "    self.beta = np.zeros(x.shape[1])\n",
    "    \n",
    "    for _ in range(self.epoca):\n",
    "      self.calculo(x, y)\n",
    "      \n",
    "  def predict(self, x):\n",
    "    \n",
    "    y_predict = np.array([])\n",
    "    limiar = 1\n",
    "\n",
    "    for i in x:\n",
    "      limiar =  1/(1 + np.exp(-1*(self.beta[0] + i @ self.beta[1:].T)))  \n",
    "\n",
    "      if limiar < 0.5:\n",
    "        y_predict = np.append(y_predict, 0)\n",
    "\n",
    "      else:\n",
    "        y_predict = np.append(y_predict, 1)\n",
    "\n",
    "    return y_predict\n"
   ]
  },
  {
   "cell_type": "markdown",
   "metadata": {
    "colab_type": "text",
    "id": "Qgzz54utxw6_"
   },
   "source": [
    "#**Função acurácia**\n",
    "\n",
    "---\n",
    "\n"
   ]
  },
  {
   "cell_type": "code",
   "execution_count": 964,
   "metadata": {
    "colab": {},
    "colab_type": "code",
    "id": "o5MyWvBwx6Ui"
   },
   "outputs": [],
   "source": [
    "def f_acuracia(y_true, y_predict):\n",
    "\n",
    "  return np.mean(y_true == y_predict)\n",
    "\n",
    "  "
   ]
  },
  {
   "cell_type": "markdown",
   "metadata": {
    "colab_type": "text",
    "id": "2SdnR0za71HS"
   },
   "source": [
    "#**Naive Bayes Gaussiano**\n",
    "\n",
    "---\n",
    "\n"
   ]
  },
  {
   "cell_type": "code",
   "execution_count": 965,
   "metadata": {
    "colab": {},
    "colab_type": "code",
    "id": "QhoeOOFr2U7W"
   },
   "outputs": [],
   "source": [
    "class NBG():\n",
    "\n",
    "  def __init__(self):\n",
    "    \n",
    "    self.estimator_type = \"classifier\"\n",
    "    self.m_covarianca = np.array([])\n",
    "    self.classe = np.array([])  \n",
    "\n",
    "  def fit(self, x, y):\n",
    "\n",
    "    #c_classe = contador da quantidade da classe)\n",
    "    self.classe, c_classe = np.unique(y, return_counts= True)\n",
    "    \n",
    "    #probabilidade da classe (nc/ N ) número da classes dividido por o numero de linhas de y\n",
    "    self.p_classe = c_classe/y.shape[0]\n",
    "\n",
    "    self.media_classe = np.array([])\n",
    "\n",
    "    for i in self.classe:\n",
    "\n",
    "      #Sao os valores de x encontrados nas classes\n",
    "      x_por_classe = np.array([X for X, classe in zip(x,y) if classe == i])\n",
    "      #media das duas classes de x\n",
    "      self.media_classe = np.append(self.media_classe, np.mean(x_por_classe, axis=0))\n",
    "    \n",
    "    #reshape transforma vetor em matriz\n",
    "    self.media_classe = self.media_classe.reshape(len(self.classe), x.shape[1])\n",
    "    self.m_covarianca = ((x - np.mean(x, axis=0)).T @ (x - np.mean(x, axis=0))) / (x.shape[0] - 1)\n",
    "\n",
    "  def predict(self, x):\n",
    "    #salvar os valores preditos\n",
    "    save_predict = np.array([])\n",
    "    \n",
    "    for i in x:\n",
    "      #probabilidade salva de x\n",
    "      p_save = np.array([])\n",
    "\n",
    "      for j in range(0, len(self.classe)):\n",
    "        #calculo da probabilidade do inferno\n",
    "        expoente = np.exp(-(1.0/2) * (i - self.media_classe[j]).T @ np.linalg.inv(self.m_covarianca) @ (i - self.media_classe[j]))\n",
    "        probabilidade = expoente / (np.power(2*np.pi, x.shape[0] / 2) * np.sqrt(np.linalg.det(self.m_covarianca)))\n",
    "        \n",
    "        p_save = np.append(p_save, probabilidade * self.p_classe[j])\n",
    "      \n",
    "      save_predict = np.append(save_predict, self.classe[np.argmax(p_save)])\n",
    "    \n",
    "    return save_predict\n",
    "\n"
   ]
  },
  {
   "cell_type": "markdown",
   "metadata": {
    "colab_type": "text",
    "id": "SmkjyHeB8APa"
   },
   "source": [
    "#**Discriminante Quadrático Gaussiano**\n",
    "\n",
    "---\n",
    "\n"
   ]
  },
  {
   "cell_type": "code",
   "execution_count": 966,
   "metadata": {
    "colab": {},
    "colab_type": "code",
    "id": "DKRAdQdkfP3D"
   },
   "outputs": [],
   "source": [
    "class DQG():\n",
    "\n",
    "  def __init__(self):\n",
    "    \n",
    "    self._estimator_type = \"classifier\"\n",
    "    self.m_covarianca = np.array([])\n",
    "    self.classe = np.array([])  \n",
    "\n",
    "  def fit(self, x, y):\n",
    "\n",
    "    #c_classe = contador da quantidade da classe)\n",
    "    self.classe, c_classe = np.unique(y, return_counts= True)\n",
    "    \n",
    "    #probabilidade da classe (nc/ N ) número da classes dividido por o numero de linhas de y\n",
    "    self.p_classe = c_classe/y.shape[0]\n",
    "\n",
    "    self.media_classe = np.array([])\n",
    "\n",
    "    for i in self.classe:\n",
    "\n",
    "      #Sao os valores de x encontrados nas classes\n",
    "      x_por_classe = np.array([X for X, classe in zip(x,y) if classe == i])\n",
    "      #media das duas classes de x\n",
    "      self.media_classe = np.append(self.media_classe, np.mean(x_por_classe, axis=0))\n",
    "      self.m_covarianca = np.append(self.m_covarianca,((x_por_classe - np.mean(x_por_classe, axis=0)).T @ (x_por_classe - np.mean(x_por_classe, axis=0))) / (x.shape[0] - 1))\n",
    "\n",
    "    #reshape transforma vetor em matriz\n",
    "    self.media_classe = self.media_classe.reshape(len(self.classe), x.shape[1])\n",
    "    self.m_covarianca = self.m_covarianca.reshape(len(self.classe), x.shape[1], x.shape[1])\n",
    "\n",
    "  def predict(self, x):\n",
    "    #salvar os valores preditos\n",
    "    save_predict = np.array([])\n",
    "    \n",
    "    for i in x:\n",
    "      #probabilidade salva de x\n",
    "      p_save = np.array([])\n",
    "\n",
    "      for j in range(0, len(self.classe)):\n",
    "        #calculo da probabilidade do inferno\n",
    "        expoente = np.exp(-(1.0/2) * (i - self.media_classe[j]).T @ np.linalg.inv(self.m_covarianca[j]) @ (i - self.media_classe[j]))\n",
    "        probabilidade = expoente / (np.power(2*np.pi, x.shape[0] / 2) * np.sqrt(np.linalg.det(self.m_covarianca[j])))\n",
    "        \n",
    "        p_save = np.append(p_save, probabilidade * self.p_classe[j])\n",
    "      \n",
    "      save_predict = np.append(save_predict, self.classe[np.argmax(p_save)])\n",
    "    \n",
    "    return save_predict"
   ]
  },
  {
   "cell_type": "markdown",
   "metadata": {
    "colab_type": "text",
    "id": "9lOakr3EpB1_"
   },
   "source": [
    "#**Dividindo e Carregando Dados**\n",
    "\n",
    "---\n",
    "\n"
   ]
  },
  {
   "cell_type": "code",
   "execution_count": 967,
   "metadata": {
    "colab": {},
    "colab_type": "code",
    "id": "enes2VnapMjs"
   },
   "outputs": [],
   "source": [
    "data = np.loadtxt(\"/content/drive/My Drive/LINUX/ex2data1.txt\", delimiter=\",\")\n",
    "x = data[:, 0:2]\n",
    "y = data[:, 2]\n",
    "\n",
    "#emabaralha os dados\n",
    "np.random.shuffle(data) \n",
    "\n",
    "percentual = int(x.shape[0]*0.7) # 70% dos valores de amostra de x\n",
    "x_train\t= x[:percentual] #pegando 70% dos valores de amostra de x (FIT)\n",
    "y_train\t= y[:percentual] #pegando 70% dos valores de amostra de y (FIT)\n",
    "x_teste = x[percentual:] #pegando 30% dos valores de amostra de x (PREDICT)\n",
    "y_teste = y[percentual:] #pegando 30% dos valores de amostra de y (PREDICT)\n",
    "\n",
    "f_RLGD = RLGD()\n",
    "f_DQG = DQG()\n",
    "f_NBG = NBG()\n",
    "\n",
    "\n",
    "#f_RLGD.fit(x_train, y_train)\n",
    "#y_test_predict = f_RLGD.predict(x_teste)\n",
    "\n",
    "#f_NBG.fit(x_train, y_train)\n",
    "#y_test_predict = f_NBG.predict(x_teste)\n",
    "\n",
    "\n",
    "#f_DQG.fit(x_train, y_train)\n",
    "#y_test_predict = f_DQG.predict(x_teste)\n",
    "\n",
    "#print(\"Acuracia\", f_acuracia(y_teste, y_test_predict))\n",
    "#print(\"Teste\", y_test_predict)"
   ]
  },
  {
   "cell_type": "markdown",
   "metadata": {
    "colab_type": "text",
    "id": "GK0zxIn-tr7g"
   },
   "source": [
    "#**RESULTADOS**\n",
    "\n",
    "---\n",
    "\n"
   ]
  },
  {
   "cell_type": "markdown",
   "metadata": {
    "colab_type": "text",
    "id": "pcNgELmR2T3y"
   },
   "source": [
    "***Matriz de Confusão***\n",
    "\n"
   ]
  },
  {
   "cell_type": "code",
   "execution_count": 968,
   "metadata": {
    "colab": {},
    "colab_type": "code",
    "id": "cJ3QYJfgMgtE"
   },
   "outputs": [],
   "source": [
    "def plot_confusion_matrix_(x, y, classificador):\n",
    "    classificador.fit(x_train, y_train)\n",
    "    y_test_predict = classificador.predict(x)\n",
    "\n",
    "    cm = confusion_matrix(y ,y_test_predict)\n",
    "    \n",
    "    index = [\"x1\", \"x2\"]\n",
    "    columns = [\"x1\", \"x2\"]\n",
    "\n",
    "    cm_df = pd.DataFrame(cm, columns, index)\n",
    "    plt.figure(figsize=(6,6))\n",
    "    sns.heatmap(cm_df, annot=True, cmap=plt.cm.Greens)\n",
    "    \n",
    "    plt.show()"
   ]
  },
  {
   "cell_type": "markdown",
   "metadata": {
    "colab_type": "text",
    "id": "NULsKhlx3_pc"
   },
   "source": [
    "***Fronteiras de Separação do Classificador***"
   ]
  },
  {
   "cell_type": "code",
   "execution_count": 969,
   "metadata": {
    "colab": {},
    "colab_type": "code",
    "id": "d_8z5mJ2-RtQ"
   },
   "outputs": [],
   "source": [
    " def plot_boundaries(x, y, classificador):\n",
    "      \n",
    "      x_min, x_max = x[:, 0].min() - 0.5, x[:, 0].max() + 0.5\n",
    "      y_min, y_max = x[:, 1].min() - 0.5, x[:, 1].max() + 0.5\n",
    "      h = 0.6\n",
    "\n",
    "      xx, yy = np.meshgrid(np.arange(x_min, x_max, h), np.arange(y_min, y_max, h))\n",
    "      Z = classificador.predict(np.c_[xx.ravel(), yy.ravel()])\n",
    "      \n",
    "      Z = Z.reshape(xx.shape)\n",
    "      plt.figure(1, figsize=(4, 3))\n",
    "      plt.pcolormesh(xx, yy, Z, cmap=plt.cm.Paired)\n",
    "      \n",
    "      plt.scatter(x[:, 0], x[:, 1], c=y, edgecolors='k', cmap=plt.cm.Paired)\n",
    "      plt.xlabel('x1')\n",
    "      plt.ylabel('x2')\n",
    "\n",
    "      plt.xlim(xx.min(), xx.max())\n",
    "      plt.ylim(yy.min(), yy.max())\n",
    "      plt.xticks(())\n",
    "      plt.yticks(())\n",
    "\n",
    "      plt.show()\n",
    "    "
   ]
  },
  {
   "cell_type": "code",
   "execution_count": 970,
   "metadata": {
    "colab": {
     "base_uri": "https://localhost:8080/",
     "height": 637
    },
    "colab_type": "code",
    "id": "e53_0YOGsLRK",
    "outputId": "3ad42ee0-0b51-4b28-fa63-53ed347417f4"
   },
   "outputs": [
    {
     "name": "stdout",
     "output_type": "stream",
     "text": [
      "----------------REGRESSAO LOGISTICA----------------\n",
      "Acurácia: 0.4666666666666667\n",
      "               -MATRIZ DE CONFUSÃO-\n"
     ]
    },
    {
     "data": {
      "image/png": "[encoded data removed]",
      "text/plain": [
       "<Figure size 432x432 with 2 Axes>"
      ]
     },
     "metadata": {
      "needs_background": "light",
      "tags": []
     },
     "output_type": "display_data"
    },
    {
     "name": "stdout",
     "output_type": "stream",
     "text": [
      "      -Fronteiras de Separação do Classificador-\n"
     ]
    },
    {
     "data": {
      "image/png": "[encoded data removed]",
      "text/plain": [
       "<Figure size 288x216 with 1 Axes>"
      ]
     },
     "metadata": {
      "tags": []
     },
     "output_type": "display_data"
    }
   ],
   "source": [
    "print(\"----------------REGRESSAO LOGISTICA----------------\")\n",
    "print('Acurácia: {}'.format(f_acuracia(y_teste, y_test_predict)))\n",
    "print(\"               -MATRIZ DE CONFUSÃO-\")\n",
    "plot_confusion_matrix_(x_teste, y_teste, f_RLGD)\n",
    "print(\"      -Fronteiras de Separação do Classificador-\")\n",
    "plot_boundaries(x_teste, y_teste, f_RLGD)\n"
   ]
  },
  {
   "cell_type": "code",
   "execution_count": 971,
   "metadata": {
    "colab": {
     "base_uri": "https://localhost:8080/",
     "height": 650
    },
    "colab_type": "code",
    "id": "bvtKVNGn_cDx",
    "outputId": "cc68cc8c-964e-4022-8115-e1fe7a88c28b"
   },
   "outputs": [
    {
     "name": "stdout",
     "output_type": "stream",
     "text": [
      "----------------Naive Bayes Gaussiano----------------\n",
      "Acurácia: 0.4666666666666667\n",
      "               -MATRIZ DE CONFUSÃO-\n"
     ]
    },
    {
     "data": {
      "image/png": "[encoded data removed]",
      "text/plain": [
       "<Figure size 432x432 with 2 Axes>"
      ]
     },
     "metadata": {
      "needs_background": "light",
      "tags": []
     },
     "output_type": "display_data"
    },
    {
     "name": "stdout",
     "output_type": "stream",
     "text": [
      "      -Fronteiras de Separação do Classificador-\n"
     ]
    },
    {
     "name": "stderr",
     "output_type": "stream",
     "text": [
      "/usr/local/lib/python3.6/dist-packages/ipykernel_launcher.py:41: RuntimeWarning: overflow encountered in power\n"
     ]
    },
    {
     "data": {
      "image/png": "[encoded data removed]",
      "text/plain": [
       "<Figure size 288x216 with 1 Axes>"
      ]
     },
     "metadata": {
      "tags": []
     },
     "output_type": "display_data"
    }
   ],
   "source": [
    "print(\"----------------Naive Bayes Gaussiano----------------\")\n",
    "print('Acurácia: {}'.format(f_acuracia(y_teste, y_test_predict)))\n",
    "print(\"               -MATRIZ DE CONFUSÃO-\")\n",
    "plot_confusion_matrix_(x_teste, y_teste, f_NBG)\n",
    "print(\"      -Fronteiras de Separação do Classificador-\")\n",
    "plot_boundaries(x_teste, y_teste, f_NBG)\n"
   ]
  },
  {
   "cell_type": "code",
   "execution_count": 972,
   "metadata": {
    "colab": {
     "base_uri": "https://localhost:8080/",
     "height": 650
    },
    "colab_type": "code",
    "id": "5TGIfag2yhM3",
    "outputId": "235547d5-a1e3-4572-8dad-7fe6c92ac5c7"
   },
   "outputs": [
    {
     "name": "stdout",
     "output_type": "stream",
     "text": [
      "------------Discriminante Quadrático Gaussiano-------------\n",
      "Acurácia: 0.4666666666666667\n",
      "               -MATRIZ DE CONFUSÃO-\n"
     ]
    },
    {
     "data": {
      "image/png": "[encoded data removed]",
      "text/plain": [
       "<Figure size 432x432 with 2 Axes>"
      ]
     },
     "metadata": {
      "needs_background": "light",
      "tags": []
     },
     "output_type": "display_data"
    },
    {
     "name": "stdout",
     "output_type": "stream",
     "text": [
      "      -Fronteiras de Separação do Classificador-\n"
     ]
    },
    {
     "name": "stderr",
     "output_type": "stream",
     "text": [
      "/usr/local/lib/python3.6/dist-packages/ipykernel_launcher.py:42: RuntimeWarning: overflow encountered in power\n"
     ]
    },
    {
     "data": {
      "image/png": "[encoded data removed]",
      "text/plain": [
       "<Figure size 288x216 with 1 Axes>"
      ]
     },
     "metadata": {
      "tags": []
     },
     "output_type": "display_data"
    }
   ],
   "source": [
    "print(\"------------Discriminante Quadrático Gaussiano-------------\")\n",
    "print('Acurácia: {}'.format(f_acuracia(y_teste, y_test_predict)))\n",
    "print(\"               -MATRIZ DE CONFUSÃO-\")\n",
    "plot_confusion_matrix_(x_teste, y_teste, f_DQG)\n",
    "print(\"      -Fronteiras de Separação do Classificador-\")\n",
    "plot_boundaries(x_teste, y_teste, f_DQG)"
   ]
  }
 ],
 "metadata": {
  "colab": {
   "collapsed_sections": [],
   "name": "Atividade2.ipynb",
   "provenance": [],
   "toc_visible": true
  },
  "kernelspec": {
   "display_name": "Python 3",
   "name": "python3"
  }
 },
 "nbformat": 4,
 "nbformat_minor": 0
}
