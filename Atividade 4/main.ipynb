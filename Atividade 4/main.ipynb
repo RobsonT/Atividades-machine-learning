{
 "cells": [
  {
   "cell_type": "markdown",
   "metadata": {},
   "source": [
    "# Importação das bibliotecas"
   ]
  },
  {
   "cell_type": "code",
   "execution_count": 1,
   "metadata": {},
   "outputs": [],
   "source": [
    "import numpy as np\n",
    "import pandas as pd\n",
    "from models import Kmeans, DecisionTreeClassifier\n",
    "from matplotlib import pyplot as plt\n",
    "from metrics import Metrics\n",
    "from pca import PCA"
   ]
  },
  {
   "cell_type": "markdown",
   "metadata": {},
   "source": [
    "# Leitura dos dados"
   ]
  },
  {
   "cell_type": "code",
   "execution_count": 2,
   "metadata": {},
   "outputs": [],
   "source": [
    "data = np.loadtxt(\"./trab4.data\", delimiter=\",\")\n",
    "X = data[:, :-1]\n",
    "y = data[:, -1]"
   ]
  },
  {
   "cell_type": "markdown",
   "metadata": {},
   "source": [
    "# Aplicação do k-means"
   ]
  },
  {
   "cell_type": "code",
   "execution_count": null,
   "metadata": {},
   "outputs": [
    {
     "name": "stdout",
     "output_type": "stream",
     "text": [
      "___________K-means___________\n"
     ]
    }
   ],
   "source": [
    "print(\"___________K-means___________\")\n",
    "mean_distance = np.array([])\n",
    "for k in range(2, 6):\n",
    "    distance = 0\n",
    "    for _ in range(20):\n",
    "        kmeans = Kmeans(k)\n",
    "        kmeans.fit(X)\n",
    "        kmeans.predict(X)\n",
    "        distance += kmeans.class_distance.mean()\n",
    "    mean_distance = np.append(mean_distance, distance/20)\n",
    "\n",
    "plt.scatter(range(2,6), mean_distance, color='black')\n",
    "plt.plot(range(2,6), mean_distance, color='blue')\n",
    "\n",
    "plt.title(\"Distancia obtida com k-means\")\n",
    "plt.xlabel(\"K\")\n",
    "plt.ylabel(\"Distância\")\n",
    "plt.show()\n",
    "    "
   ]
  },
  {
   "cell_type": "markdown",
   "metadata": {},
   "source": [
    "Para esse caso podemos dizer que tanto 3 quanto 4 são bons valores para k. Com k=4 o modelo conseguiu se adaptar bem os dados, sendo pequena as distâncias entres os dados e os centroides. Já k = 3, também se torna uma opção interessante, uma vez que já sabemos que os dados estão divididos em 3 categorias."
   ]
  },
  {
   "cell_type": "markdown",
   "metadata": {},
   "source": [
    "# Aplicação da Árvore de decisão"
   ]
  },
  {
   "cell_type": "code",
   "execution_count": null,
   "metadata": {
    "scrolled": false
   },
   "outputs": [],
   "source": [
    "DTC = DecisionTreeClassifier()"
   ]
  },
  {
   "cell_type": "code",
   "execution_count": null,
   "metadata": {
    "scrolled": true
   },
   "outputs": [],
   "source": [
    "Metrics().k_fold(X, y, 5, DTC)"
   ]
  },
  {
   "cell_type": "markdown",
   "metadata": {},
   "source": [
    "# Aplicação de PCA"
   ]
  },
  {
   "cell_type": "code",
   "execution_count": null,
   "metadata": {},
   "outputs": [],
   "source": [
    "pca = PCA(2)\n",
    "pca.fit(X)\n",
    "X = pca.transform(X)"
   ]
  },
  {
   "cell_type": "code",
   "execution_count": null,
   "metadata": {},
   "outputs": [],
   "source": [
    "print(\"variância preservada: {}\".format(pca.variance.sum()))"
   ]
  },
  {
   "cell_type": "code",
   "execution_count": null,
   "metadata": {},
   "outputs": [],
   "source": [
    "plt.scatter(X[:, 0], X[:, 1], c=y, edgecolors='k')\n",
    "plt.title(\"Componentes\")\n",
    "plt.xlabel('PC1 ({:.2f}%)'.format(pca.variance[0] * 100))\n",
    "plt.ylabel('PC2 ({:.2f}%)'.format(pca.variance[1] * 100))\n",
    "plt.show()"
   ]
  }
 ],
 "metadata": {
  "kernelspec": {
   "display_name": "Python 3",
   "language": "python",
   "name": "python3"
  },
  "language_info": {
   "codemirror_mode": {
    "name": "ipython",
    "version": 3
   },
   "file_extension": ".py",
   "mimetype": "text/x-python",
   "name": "python",
   "nbconvert_exporter": "python",
   "pygments_lexer": "ipython3",
   "version": "3.8.3"
  }
 },
 "nbformat": 4,
 "nbformat_minor": 4
}
