{
 "cells": [
  {
   "cell_type": "markdown",
   "metadata": {},
   "source": [
    "# Atividade 3 - Naive Bayes e Regressão Logistica"
   ]
  },
  {
   "cell_type": "markdown",
   "metadata": {},
   "source": [
    "## Importando bibliotecas"
   ]
  },
  {
   "cell_type": "code",
   "execution_count": 1,
   "metadata": {},
   "outputs": [],
   "source": [
    "import numpy as np\n",
    "import matplotlib.pyplot as plt\n",
    "from sklearn.linear_model import LogisticRegression\n",
    "from sklearn.metrics import plot_confusion_matrix"
   ]
  },
  {
   "cell_type": "markdown",
   "metadata": {},
   "source": [
    "## Naive bayes gaussiano"
   ]
  },
  {
   "cell_type": "code",
   "execution_count": 2,
   "metadata": {},
   "outputs": [],
   "source": [
    "class NaiveBayesGaussiano():\n",
    "    \n",
    "    def __init__(self):\n",
    "        self.c_mean = {}\n",
    "        self.c_std = {}\n",
    "        self.y_prob = {}\n",
    "        pass\n",
    "    \n",
    "    def fit(self, X, y):\n",
    "        self.y_values, y_counts =  np.unique(y, return_counts=True)\n",
    "        for y_value, y_count in zip(self.y_values, y_counts):\n",
    "            self.y_prob[y_value] = (y_count / y_counts.sum())\n",
    "            indices = np.array([])\n",
    "            for i in range(0, y.shape[0]):\n",
    "                if y[i] == y_value:\n",
    "                    indices = np.append(indices, i)\n",
    "                    \n",
    "            self.c_mean[y_value] = np.array([])\n",
    "            self.c_std[y_value] = np.array([])\n",
    "            for i in range(0, X.shape[1]):\n",
    "                x = np.array([X[int(index), i] for index in indices])\n",
    "                self.c_mean[y_value] = np.append(self.c_mean[y_value], x.mean())\n",
    "                std = np.array([(value - x) ** 2 for value in x])\n",
    "                self.c_std[y_value] = np.append(self.c_std[y_value], np.sqrt(std.mean()))\n",
    "                \n",
    "        return self\n",
    "                \n",
    "            \n",
    "        \n",
    "    def predict(self, X):\n",
    "        predict = np.array([])\n",
    "        for x in X:\n",
    "            pred = []\n",
    "            for label in self.y_values:\n",
    "                probability = 1\n",
    "                for i in range(0, x.shape[0]):\n",
    "                    aux = 1 / (np.sqrt(2*np.pi) * self.c_std[label][i])\n",
    "                    prob_x_c = aux * np.exp(-((np.power(x[i] - self.c_mean[label][i], 2))/(2 * np.power(self.c_std[label][i], 2))))\n",
    "                    probability *= prob_x_c\n",
    "                pred.append((label, probability * self.y_prob[label]))\n",
    "\n",
    "            result = pred[0]\n",
    "            for p in pred:\n",
    "                if p[1] > result[1]:\n",
    "                    result = p\n",
    "            \n",
    "            predict = np.append(predict, result[0])\n",
    "        return predict\n",
    "    \n",
    "    "
   ]
  },
  {
   "cell_type": "markdown",
   "metadata": {},
   "source": [
    "## Discriminante quadratico gaussiano"
   ]
  },
  {
   "cell_type": "code",
   "execution_count": 3,
   "metadata": {},
   "outputs": [],
   "source": [
    "class DiscriminanteQuadraticoGaussiano():\n",
    "    def __init__(self):\n",
    "        pass\n",
    "    "
   ]
  },
  {
   "cell_type": "markdown",
   "metadata": {},
   "source": [
    "## Matriz de confusão"
   ]
  },
  {
   "cell_type": "code",
   "execution_count": 4,
   "metadata": {},
   "outputs": [],
   "source": [
    "def plot_confusion_matrix_(X, y, clf):\n",
    "    clf._estimator_type = \"classifier\"\n",
    "    clf.classes_ =  [\"setosa \",\"versicolor\", \"virginica\"]\n",
    "    disp = plot_confusion_matrix(clf, X, y)\n",
    "    disp.ax_.set_title(\"Matriz de confusão\")\n",
    "    plt.show()"
   ]
  },
  {
   "cell_type": "markdown",
   "metadata": {},
   "source": [
    "## Avaliação de dados preditos"
   ]
  },
  {
   "cell_type": "code",
   "execution_count": 5,
   "metadata": {},
   "outputs": [],
   "source": [
    "def avaliate(y_real, y_pred):\n",
    "    count = 0\n",
    "    for r, p in zip(y_real, y_pred):\n",
    "        if r == p:\n",
    "            count += 1\n",
    "    return (count / y_real.shape[0])"
   ]
  },
  {
   "cell_type": "markdown",
   "metadata": {},
   "source": [
    "## Carregando dados"
   ]
  },
  {
   "cell_type": "code",
   "execution_count": 6,
   "metadata": {},
   "outputs": [],
   "source": [
    "data = np.loadtxt(\"./iris.data\", delimiter=\",\")\n",
    "np.random.shuffle(data)\n",
    "X = data[:, 0:4]\n",
    "y = data[:, -1]"
   ]
  },
  {
   "cell_type": "markdown",
   "metadata": {},
   "source": [
    "## Divisão de dados em treino e teste"
   ]
  },
  {
   "cell_type": "code",
   "execution_count": 7,
   "metadata": {},
   "outputs": [],
   "source": [
    "n = int(X.shape[0] * 0.8)\n",
    "X_train = X[:n, :]\n",
    "X_test = X[n:, :]\n",
    "y_train = y[:n]\n",
    "y_test = y[n:]"
   ]
  },
  {
   "cell_type": "markdown",
   "metadata": {},
   "source": [
    "## Aplicando Naive bayes gausssiano"
   ]
  },
  {
   "cell_type": "code",
   "execution_count": 8,
   "metadata": {},
   "outputs": [
    {
     "name": "stdout",
     "output_type": "stream",
     "text": [
      "avaliação:  0.9\n"
     ]
    }
   ],
   "source": [
    "GaussianNB = NaiveBayesGaussiano()\n",
    "GaussianNB.fit(X_train, y_train)\n",
    "pred = GaussianNB.predict(X_test)\n",
    "print(\"avaliação: \", avaliate(y_test, pred))"
   ]
  },
  {
   "cell_type": "code",
   "execution_count": 9,
   "metadata": {
    "scrolled": true
   },
   "outputs": [
    {
     "data": {
      "image/png": "[encoded data removed]",
      "text/plain": [
       "<Figure size 432x288 with 2 Axes>"
      ]
     },
     "metadata": {
      "needs_background": "light"
     },
     "output_type": "display_data"
    }
   ],
   "source": [
    "plot_confusion_matrix_(X_test, y_test, GaussianNB)"
   ]
  }
 ],
 "metadata": {
  "kernelspec": {
   "display_name": "Python 3",
   "language": "python",
   "name": "python3"
  },
  "language_info": {
   "codemirror_mode": {
    "name": "ipython",
    "version": 3
   },
   "file_extension": ".py",
   "mimetype": "text/x-python",
   "name": "python",
   "nbconvert_exporter": "python",
   "pygments_lexer": "ipython3",
   "version": "3.7.6"
  }
 },
 "nbformat": 4,
 "nbformat_minor": 2
}
